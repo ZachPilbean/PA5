{
 "cells": [
  {
   "cell_type": "markdown",
   "id": "90f6c5f9",
   "metadata": {},
   "source": [
    "## Programming Assignment 5"
   ]
  },
  {
   "cell_type": "markdown",
   "id": "4b722302",
   "metadata": {},
   "source": [
    "### Zachary Pilbean"
   ]
  },
  {
   "cell_type": "markdown",
   "id": "d570c4f3",
   "metadata": {},
   "source": [
    "### Version 1"
   ]
  },
  {
   "cell_type": "markdown",
   "id": "47023eea",
   "metadata": {},
   "source": [
    "### CS150-01"
   ]
  },
  {
   "cell_type": "code",
   "execution_count": 6,
   "id": "a3ea15db",
   "metadata": {},
   "outputs": [
    {
     "name": "stdout",
     "output_type": "stream",
     "text": [
      "Enter the length of the first side: 2\n",
      "Enter the length of the second side: 2\n",
      "Enter the length of the third side: 2\n",
      "The area of the triangle is  1.7320508075688772\n",
      "The perimeter of the triangle is  6\n"
     ]
    }
   ],
   "source": [
    "def calcArea(a,b,c):\n",
    "    s= (a+b+c)/2\n",
    "    return (s*(s-a)*(s-b)*(s-c))**(1/2)\n",
    "def calcPerimeter(a,b,c):\n",
    "    return a+b+c\n",
    "a=int(input('Enter the length of the first side: '))\n",
    "b=int(input('Enter the length of the second side: '))\n",
    "c=int(input('Enter the length of the third side: '))\n",
    "print('The area of the triangle is ', calcArea(a,b,c))\n",
    "print('The perimeter of the triangle is ', calcPerimeter(a,b,c))"
   ]
  },
  {
   "cell_type": "code",
   "execution_count": 24,
   "id": "181243f8",
   "metadata": {},
   "outputs": [
    {
     "name": "stdout",
     "output_type": "stream",
     "text": [
      "Enter a number between 1 and 1000: 500\n",
      "Too low, try again\n",
      "Enter a number between 1 and 1000: 700\n",
      "Too high, try again\n",
      "Enter a number between 1 and 1000: 600\n",
      "Too low, try again\n",
      "Enter a number between 1 and 1000: 650\n",
      "Too low, try again\n",
      "Enter a number between 1 and 1000: 675\n",
      "Too high, try again\n",
      "Enter a number between 1 and 1000: 665\n",
      "You won!\n"
     ]
    }
   ],
   "source": [
    "import random \n",
    "a=None\n",
    "b=random.randint(1,1000)\n",
    "time=1\n",
    "def evaluateGuess(a,b):\n",
    "    if a>b:\n",
    "        print('Too high, try again')\n",
    "    elif a<b:\n",
    "        print('Too low, try again')\n",
    "    else:\n",
    "        print('You won!')\n",
    "while a!=b:\n",
    "    a=int(input('Enter a number between 1 and 1000: '))\n",
    "    evaluateGuess(a,b)\n",
    "    time=time+1"
   ]
  },
  {
   "cell_type": "code",
   "execution_count": 35,
   "id": "8cc35f93",
   "metadata": {},
   "outputs": [],
   "source": [
    "def meanTemp(*args):\n",
    "    print('The mean temperature for the last', len(args), 'days is', round((sum(args))/(len(args))), 'degrees Fahrenheit.')"
   ]
  },
  {
   "cell_type": "code",
   "execution_count": 36,
   "id": "808b15d2",
   "metadata": {},
   "outputs": [
    {
     "name": "stdout",
     "output_type": "stream",
     "text": [
      "The mean temperature for the last 3 days is 51 degrees Fahrenheit.\n",
      "The mean temperature for the last 3 days is 47 degrees Fahrenheit.\n",
      "The mean temperature for the last 3 days is 35 degrees Fahrenheit.\n"
     ]
    }
   ],
   "source": [
    "meanTemp(65,34,55)\n",
    "meanTemp(57,49,35)\n",
    "meanTemp(34,29,43)"
   ]
  }
 ],
 "metadata": {
  "kernelspec": {
   "display_name": "Python 3 (ipykernel)",
   "language": "python",
   "name": "python3"
  },
  "language_info": {
   "codemirror_mode": {
    "name": "ipython",
    "version": 3
   },
   "file_extension": ".py",
   "mimetype": "text/x-python",
   "name": "python",
   "nbconvert_exporter": "python",
   "pygments_lexer": "ipython3",
   "version": "3.9.12"
  }
 },
 "nbformat": 4,
 "nbformat_minor": 5
}
